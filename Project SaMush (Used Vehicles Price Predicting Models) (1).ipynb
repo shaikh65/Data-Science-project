{
 "cells": [
  {
   "cell_type": "markdown",
   "metadata": {},
   "source": [
    "# IMPORTING REQUIRED LIBRARIES "
   ]
  },
  {
   "cell_type": "code",
   "execution_count": 5,
   "metadata": {},
   "outputs": [],
   "source": [
    "#For Data Representation\n",
    "import pandas as pd\n",
    "import numpy as np\n",
    "\n",
    "#For Backward Stepwise Regression\n",
    "import statsmodels.api as sm\n",
    "\n",
    "#For Model Training\n",
    "from sklearn import linear_model\n",
    "from sklearn.tree import DecisionTreeRegressor\n",
    "from sklearn.ensemble import RandomForestRegressor\n",
    "from sklearn.neighbors import KNeighborsRegressor\n",
    "from sklearn.neural_network import MLPRegressor\n",
    "from sklearn import svm\n",
    "\n",
    "#For Metric Scoring For Checking Accuracy And Model Validation\n",
    "from sklearn.metrics import r2_score\n",
    "from sklearn.metrics import mean_squared_error\n",
    "\n",
    "#For Label Encoding and Prepocessing\n",
    "from sklearn import preprocessing\n",
    "from sklearn.preprocessing import MinMaxScaler\n",
    "\n",
    "#For Splitting Data \n",
    "from sklearn.model_selection import train_test_split\n",
    "\n",
    "#For Data Visualization\n",
    "from matplotlib import pyplot as plt\n",
    "from matplotlib.ticker import (MultipleLocator,FormatStrFormatter,AutoMinorLocator)\n",
    "%matplotlib inline"
   ]
  },
  {
   "cell_type": "markdown",
   "metadata": {},
   "source": [
    "# DATA READING"
   ]
  },
  {
   "cell_type": "code",
   "execution_count": 6,
   "metadata": {},
   "outputs": [
    {
     "data": {
      "text/plain": [
       "(56186, 16)"
      ]
     },
     "execution_count": 6,
     "metadata": {},
     "output_type": "execute_result"
    }
   ],
   "source": [
    "#Reading CSV Dataset as Pandas DataFrame\n",
    "data = pd.read_csv(\"pakwheels.csv\")\n",
    "\n",
    "#Printing Data Shape : No. of Rows x Cols\n",
    "data.shape"
   ]
  },
  {
   "cell_type": "code",
   "execution_count": 7,
   "metadata": {},
   "outputs": [
    {
     "name": "stdout",
     "output_type": "stream",
     "text": [
      "<class 'pandas.core.frame.DataFrame'>\n",
      "RangeIndex: 56186 entries, 0 to 56185\n",
      "Data columns (total 16 columns):\n",
      " #   Column           Non-Null Count  Dtype \n",
      "---  ------           --------------  ----- \n",
      " 0   Ad No            56186 non-null  int64 \n",
      " 1   Name             56186 non-null  object\n",
      " 2   Price            56186 non-null  object\n",
      " 3   Model Year       56186 non-null  int64 \n",
      " 4   Location         56186 non-null  object\n",
      " 5   Mileage          56186 non-null  int64 \n",
      " 6   Registered City  56186 non-null  object\n",
      " 7   Engine Type      54904 non-null  object\n",
      " 8   Engine Capacity  56186 non-null  object\n",
      " 9   Transmission     56186 non-null  object\n",
      " 10  Color            56186 non-null  object\n",
      " 11  Assembly         56186 non-null  object\n",
      " 12  Body Type        49717 non-null  object\n",
      " 13  Features         50765 non-null  object\n",
      " 14  Last Updated     56186 non-null  object\n",
      " 15  URL              56186 non-null  object\n",
      "dtypes: int64(3), object(13)\n",
      "memory usage: 6.9+ MB\n"
     ]
    }
   ],
   "source": [
    "data.info()"
   ]
  },
  {
   "cell_type": "code",
   "execution_count": 8,
   "metadata": {},
   "outputs": [
    {
     "data": {
      "text/html": [
       "<div>\n",
       "<style scoped>\n",
       "    .dataframe tbody tr th:only-of-type {\n",
       "        vertical-align: middle;\n",
       "    }\n",
       "\n",
       "    .dataframe tbody tr th {\n",
       "        vertical-align: top;\n",
       "    }\n",
       "\n",
       "    .dataframe thead th {\n",
       "        text-align: right;\n",
       "    }\n",
       "</style>\n",
       "<table border=\"1\" class=\"dataframe\">\n",
       "  <thead>\n",
       "    <tr style=\"text-align: right;\">\n",
       "      <th></th>\n",
       "      <th>Ad No</th>\n",
       "      <th>Name</th>\n",
       "      <th>Price</th>\n",
       "      <th>Model Year</th>\n",
       "      <th>Location</th>\n",
       "      <th>Mileage</th>\n",
       "      <th>Registered City</th>\n",
       "      <th>Engine Type</th>\n",
       "      <th>Engine Capacity</th>\n",
       "      <th>Transmission</th>\n",
       "      <th>Color</th>\n",
       "      <th>Assembly</th>\n",
       "      <th>Body Type</th>\n",
       "      <th>Features</th>\n",
       "      <th>Last Updated</th>\n",
       "      <th>URL</th>\n",
       "    </tr>\n",
       "  </thead>\n",
       "  <tbody>\n",
       "    <tr>\n",
       "      <th>0</th>\n",
       "      <td>4096758</td>\n",
       "      <td>Toyota Vitz F 1.0 2017</td>\n",
       "      <td>2385000</td>\n",
       "      <td>2017</td>\n",
       "      <td>G- 8, Islamabad Islamabad</td>\n",
       "      <td>9869</td>\n",
       "      <td>Un-Registered</td>\n",
       "      <td>Petrol</td>\n",
       "      <td>1000 cc</td>\n",
       "      <td>Automatic</td>\n",
       "      <td>Silver</td>\n",
       "      <td>Imported</td>\n",
       "      <td>Hatchback</td>\n",
       "      <td>ABS, AM/FM Radio, Air Bags, Air Conditioning,...</td>\n",
       "      <td>11-Jul-20</td>\n",
       "      <td>https://www.pakwheels.com/used-cars/toyota-vit...</td>\n",
       "    </tr>\n",
       "    <tr>\n",
       "      <th>1</th>\n",
       "      <td>4168305</td>\n",
       "      <td>Toyota Corolla GLi Automatic 1.3 VVTi 2019</td>\n",
       "      <td>111000</td>\n",
       "      <td>2019</td>\n",
       "      <td>Peshawar KPK</td>\n",
       "      <td>11111</td>\n",
       "      <td>Islamabad</td>\n",
       "      <td>Petrol</td>\n",
       "      <td>1300 cc</td>\n",
       "      <td>Automatic</td>\n",
       "      <td>White</td>\n",
       "      <td>Local</td>\n",
       "      <td>Sedan</td>\n",
       "      <td>ABS, AM/FM Radio, Air Bags, Air Conditioning,...</td>\n",
       "      <td>12-Jul-20</td>\n",
       "      <td>https://www.pakwheels.com/used-cars/toyota-cor...</td>\n",
       "    </tr>\n",
       "    <tr>\n",
       "      <th>2</th>\n",
       "      <td>4168298</td>\n",
       "      <td>Suzuki Alto VXL 2019</td>\n",
       "      <td>1530000</td>\n",
       "      <td>2019</td>\n",
       "      <td>Akora Khattak, Nowshera KPK</td>\n",
       "      <td>17500</td>\n",
       "      <td>Un-Registered</td>\n",
       "      <td>Petrol</td>\n",
       "      <td>660 cc</td>\n",
       "      <td>Automatic</td>\n",
       "      <td>White</td>\n",
       "      <td>Local</td>\n",
       "      <td>Hatchback</td>\n",
       "      <td>ABS, AM/FM Radio, Air Bags, Air Conditioning,...</td>\n",
       "      <td>12-Jul-20</td>\n",
       "      <td>https://www.pakwheels.com/used-cars/suzuki-alt...</td>\n",
       "    </tr>\n",
       "    <tr>\n",
       "      <th>3</th>\n",
       "      <td>4168307</td>\n",
       "      <td>Suzuki Alto VXR 2019</td>\n",
       "      <td>1650000</td>\n",
       "      <td>2019</td>\n",
       "      <td>Abdullahpur, Faisalabad Punjab</td>\n",
       "      <td>9600</td>\n",
       "      <td>Lahore</td>\n",
       "      <td>Petrol</td>\n",
       "      <td>660 cc</td>\n",
       "      <td>Manual</td>\n",
       "      <td>White</td>\n",
       "      <td>Local</td>\n",
       "      <td>Hatchback</td>\n",
       "      <td>AM/FM Radio, Air Bags, Air Conditioning, DVD ...</td>\n",
       "      <td>12-Jul-20</td>\n",
       "      <td>https://www.pakwheels.com/used-cars/suzuki-alt...</td>\n",
       "    </tr>\n",
       "    <tr>\n",
       "      <th>4</th>\n",
       "      <td>4168306</td>\n",
       "      <td>Toyota Corolla XLi VVTi 2010</td>\n",
       "      <td>1435000</td>\n",
       "      <td>2010</td>\n",
       "      <td>9th Avenue, Islamabad Islamabad</td>\n",
       "      <td>120000</td>\n",
       "      <td>Islamabad</td>\n",
       "      <td>Petrol</td>\n",
       "      <td>1300 cc</td>\n",
       "      <td>Manual</td>\n",
       "      <td>Black</td>\n",
       "      <td>Local</td>\n",
       "      <td>Sedan</td>\n",
       "      <td>AM/FM Radio, Air Conditioning, CD Player, Key...</td>\n",
       "      <td>12-Jul-20</td>\n",
       "      <td>https://www.pakwheels.com/used-cars/toyota-cor...</td>\n",
       "    </tr>\n",
       "  </tbody>\n",
       "</table>\n",
       "</div>"
      ],
      "text/plain": [
       "     Ad No                                        Name    Price  Model Year  \\\n",
       "0  4096758                      Toyota Vitz F 1.0 2017  2385000        2017   \n",
       "1  4168305  Toyota Corolla GLi Automatic 1.3 VVTi 2019   111000        2019   \n",
       "2  4168298                        Suzuki Alto VXL 2019  1530000        2019   \n",
       "3  4168307                        Suzuki Alto VXR 2019  1650000        2019   \n",
       "4  4168306                Toyota Corolla XLi VVTi 2010  1435000        2010   \n",
       "\n",
       "                           Location  Mileage Registered City Engine Type  \\\n",
       "0         G- 8, Islamabad Islamabad     9869   Un-Registered      Petrol   \n",
       "1                      Peshawar KPK    11111       Islamabad      Petrol   \n",
       "2       Akora Khattak, Nowshera KPK    17500   Un-Registered      Petrol   \n",
       "3    Abdullahpur, Faisalabad Punjab     9600          Lahore      Petrol   \n",
       "4   9th Avenue, Islamabad Islamabad   120000       Islamabad      Petrol   \n",
       "\n",
       "  Engine Capacity Transmission   Color  Assembly  Body Type  \\\n",
       "0         1000 cc    Automatic  Silver  Imported  Hatchback   \n",
       "1         1300 cc    Automatic   White     Local      Sedan   \n",
       "2          660 cc    Automatic   White     Local  Hatchback   \n",
       "3          660 cc       Manual   White     Local  Hatchback   \n",
       "4         1300 cc       Manual   Black     Local      Sedan   \n",
       "\n",
       "                                            Features Last Updated  \\\n",
       "0   ABS, AM/FM Radio, Air Bags, Air Conditioning,...    11-Jul-20   \n",
       "1   ABS, AM/FM Radio, Air Bags, Air Conditioning,...    12-Jul-20   \n",
       "2   ABS, AM/FM Radio, Air Bags, Air Conditioning,...    12-Jul-20   \n",
       "3   AM/FM Radio, Air Bags, Air Conditioning, DVD ...    12-Jul-20   \n",
       "4   AM/FM Radio, Air Conditioning, CD Player, Key...    12-Jul-20   \n",
       "\n",
       "                                                 URL  \n",
       "0  https://www.pakwheels.com/used-cars/toyota-vit...  \n",
       "1  https://www.pakwheels.com/used-cars/toyota-cor...  \n",
       "2  https://www.pakwheels.com/used-cars/suzuki-alt...  \n",
       "3  https://www.pakwheels.com/used-cars/suzuki-alt...  \n",
       "4  https://www.pakwheels.com/used-cars/toyota-cor...  "
      ]
     },
     "execution_count": 8,
     "metadata": {},
     "output_type": "execute_result"
    }
   ],
   "source": [
    "data.head()"
   ]
  },
  {
   "cell_type": "markdown",
   "metadata": {},
   "source": [
    "# DATA CLEANING"
   ]
  },
  {
   "cell_type": "markdown",
   "metadata": {},
   "source": [
    "## DROPPING UN-WANTED FIELDS"
   ]
  },
  {
   "cell_type": "code",
   "execution_count": 9,
   "metadata": {},
   "outputs": [],
   "source": [
    "drop_fields = ['URL','Location','Ad No','Color','Registered City','Features','Last Updated']\n",
    "\n",
    "data.drop(drop_fields, axis=1, inplace=True)"
   ]
  },
  {
   "cell_type": "markdown",
   "metadata": {},
   "source": [
    "## DROPPING ROWS WITH NAN OR GARBAGE VALUES"
   ]
  },
  {
   "cell_type": "code",
   "execution_count": 10,
   "metadata": {},
   "outputs": [
    {
     "data": {
      "text/plain": [
       "(54914, 9)"
      ]
     },
     "execution_count": 10,
     "metadata": {},
     "output_type": "execute_result"
    }
   ],
   "source": [
    "#Droping the Rows without price as we have adequate Dataset of 56,000+ Records\n",
    "#therefore we can afford to lose some records\n",
    "data = data[data.Price != 'Call for price']\n",
    "\n",
    "\n",
    "#Changing data type to price to int32 to save space\n",
    "data.astype({'Price': 'int32'}).dtypes\n",
    "\n",
    "\n",
    "#Shape of Updated Data\n",
    "data.shape"
   ]
  },
  {
   "cell_type": "markdown",
   "metadata": {},
   "source": [
    "## FORMATTING THE DATASET IN READABLE FORM"
   ]
  },
  {
   "cell_type": "code",
   "execution_count": 11,
   "metadata": {},
   "outputs": [],
   "source": [
    "#Breaking Name into sub categories that are useful\n",
    "\n",
    "make = [] #Empty List to record brand's name\n",
    "temp = []\n",
    "\n",
    "for i in data[\"Name\"]:\n",
    "    temp = i.split()\n",
    "    make.append(temp[0])"
   ]
  },
  {
   "cell_type": "code",
   "execution_count": 12,
   "metadata": {},
   "outputs": [],
   "source": [
    "#Inserting the new categories in the dataset\n",
    "\n",
    "data.insert(0, \"Make\", make, True)"
   ]
  },
  {
   "cell_type": "code",
   "execution_count": 13,
   "metadata": {},
   "outputs": [],
   "source": [
    "#Dropping Old Name From Dataset which is useless now\n",
    "\n",
    "data.drop(columns = \"Name\", inplace = True)"
   ]
  },
  {
   "cell_type": "markdown",
   "metadata": {},
   "source": [
    "## FURTHER DATA CLEANSING: DELETING POOR DATA"
   ]
  },
  {
   "cell_type": "code",
   "execution_count": 14,
   "metadata": {},
   "outputs": [],
   "source": [
    "#Data of the following Makers/Brands SHOULD Be Kept Only \n",
    "wish = [\"Audi\",\"BMW\",\"Chevrolet\",\"Daewoo\",\"FAW\",\"Hyundai\",\n",
    "        \"Toyota\",\"Honda\",\"Suzuki\",\"Daihatsu\",\"Mitsubishi\",\"Nissan\",\n",
    "        \"KIA\",\"Lexus\",\"Mazda\",\"Mercedes\",\"United\",\"Subaru\"]\n",
    "\n",
    "data = data[data['Make'].isin(wish)]"
   ]
  },
  {
   "cell_type": "code",
   "execution_count": 15,
   "metadata": {},
   "outputs": [],
   "source": [
    "#Data Only of only the following Body SHOULD NOT Be Kept\n",
    "wish = [\"Convertible\", \"Coupe\",\"Mini Vehicles\",\"Off-Road Vehicles\",\n",
    "        \"Single Cabin\", \"Truck\"]\n",
    "\n",
    "data = data[~data['Body Type'].isin(wish)]"
   ]
  },
  {
   "cell_type": "code",
   "execution_count": 16,
   "metadata": {},
   "outputs": [
    {
     "data": {
      "text/plain": [
       "Body Type\n",
       "Double Cabin      388\n",
       "Hatchback       22071\n",
       "Pick Up           250\n",
       "SUV              3513\n",
       "Sedan           18982\n",
       "Van              3026\n",
       "Name: Body Type, dtype: int64"
      ]
     },
     "execution_count": 16,
     "metadata": {},
     "output_type": "execute_result"
    }
   ],
   "source": [
    "#Replacing combining similar type of body which have different words\n",
    "data.replace(to_replace =[\"Mini Van\", \"Micro Van\", \"High Roof\", \"Station Wagon\", \"Van\"], value =\"Van\",inplace = True)\n",
    "data.replace(to_replace =[\"MPV\"], value =\"Hatchback\",inplace = True)\n",
    "data.replace(to_replace =[\"Pickup\"], value =\"Double Cabin\",inplace = True)\n",
    "data.replace(to_replace =[\"Crossover\"], value =\"SUV\",inplace = True)\n",
    "\n",
    "#Grouping By To See The Result\n",
    "data.groupby([\"Body Type\"])[\"Body Type\"].count()"
   ]
  },
  {
   "cell_type": "code",
   "execution_count": 17,
   "metadata": {},
   "outputs": [
    {
     "data": {
      "text/plain": [
       "(54446, 9)"
      ]
     },
     "execution_count": 17,
     "metadata": {},
     "output_type": "execute_result"
    }
   ],
   "source": [
    "data.shape"
   ]
  },
  {
   "cell_type": "code",
   "execution_count": 18,
   "metadata": {},
   "outputs": [],
   "source": [
    "#Convertin Engine Capacity from string to int\n",
    "engine_power = [] #Empty List to record brand's name\n",
    "temp = []\n",
    "for i in data[\"Engine Capacity\"]:\n",
    "    temp = i.split()\n",
    "    engine_power.append(int(temp[0]))\n",
    "    \n",
    "#Inserting Engine Power in Data and Removie Engine Capacity\n",
    "data.insert(6, \"Power\", engine_power, True)\n",
    "data.drop(columns = \"Engine Capacity\", inplace = True)\n",
    "\n",
    "\n",
    "#Renaming \"Model Year\" Column to \"Year\" to avoid confusion\n",
    "data.rename(columns={'Model Year': 'Year'}, inplace=True)\n",
    "data.rename(columns={'Engine Type': 'Fuel'}, inplace=True)\n",
    "data.rename(columns={'Body Type': 'Body'}, inplace=True)"
   ]
  },
  {
   "cell_type": "markdown",
   "metadata": {},
   "source": [
    "## REMOVING OUTLIERS"
   ]
  },
  {
   "cell_type": "code",
   "execution_count": 19,
   "metadata": {},
   "outputs": [],
   "source": [
    "#FUCTION TO REMOVE OUTLIERS\n",
    "def removeOutliers(data,col):\n",
    "    delete = []\n",
    "    temp = []\n",
    "    for x in data[col]:\n",
    "        temp.append(int(x))\n",
    "    \n",
    "    data_mean, data_std = np.mean(temp), np.std(temp)\n",
    "    cut_off = data_std * 3\n",
    "    lower, upper = data_mean - cut_off, data_mean + cut_off\n",
    "    \n",
    "    count = 0\n",
    "    for i in temp:\n",
    "        count += 1\n",
    "        if (i >= lower and i <= upper):\n",
    "            continue\n",
    "        else:\n",
    "            delete.append(count)\n",
    "    \n",
    "    data.drop(data.index[delete], inplace=True)\n",
    "    return data"
   ]
  },
  {
   "cell_type": "code",
   "execution_count": 20,
   "metadata": {},
   "outputs": [],
   "source": [
    "#REMOVING OUTLIERS IN PRICE MILEAGE AND YEAR FIELDS\n",
    "data = removeOutliers(data,\"Price\")\n",
    "data = removeOutliers(data,\"Mileage\")\n",
    "data = removeOutliers(data,\"Year\")"
   ]
  },
  {
   "cell_type": "markdown",
   "metadata": {},
   "source": [
    "## DROPPING ALL ROWS WITH ANY NAN VALUE"
   ]
  },
  {
   "cell_type": "code",
   "execution_count": 21,
   "metadata": {},
   "outputs": [],
   "source": [
    "column_names = []\n",
    "for i in data.columns:\n",
    "    column_names.append(str(i))\n",
    "    data.dropna(subset = [str(i)], inplace=True)"
   ]
  },
  {
   "cell_type": "code",
   "execution_count": 22,
   "metadata": {},
   "outputs": [
    {
     "data": {
      "text/plain": [
       "(45433, 9)"
      ]
     },
     "execution_count": 22,
     "metadata": {},
     "output_type": "execute_result"
    }
   ],
   "source": [
    "data.shape"
   ]
  },
  {
   "cell_type": "markdown",
   "metadata": {},
   "source": [
    "# DATA PREPARATION"
   ]
  },
  {
   "cell_type": "raw",
   "metadata": {},
   "source": [
    "#Create Dummies of Make, Body, Assembly, Fuel, Transmission\n",
    "#make = pd.get_dummies(data.Make,\"Make\",\"_\")\n",
    "#body = pd.get_dummies(data.Body,\"Body\",\"_\")\n",
    "#assembly = pd.get_dummies(data.Assembly,\"Assembly\",\"_\")\n",
    "#fuel = pd.get_dummies(data.Fuel,\"Fuel\",\"_\")\n",
    "#transmission = pd.get_dummies(data.Transmission,\"Transmission\",\"_\")"
   ]
  },
  {
   "cell_type": "raw",
   "metadata": {},
   "source": [
    "#data = pd.concat([data,make,body,assembly,fuel,transmission],axis=1)\n",
    "\n",
    "#drop_fields = [\"Make\",\"Body\",\"Assembly\",\"Fuel\",\"Transmission\"]\n",
    "#data.drop(drop_fields, axis=1, inplace=True)\n",
    "#data.shape"
   ]
  },
  {
   "cell_type": "markdown",
   "metadata": {},
   "source": [
    "# SEPARATING TARGET VARIABLE FROM THE DATASET"
   ]
  },
  {
   "cell_type": "code",
   "execution_count": 23,
   "metadata": {},
   "outputs": [
    {
     "data": {
      "text/plain": [
       "0        2385000\n",
       "1         111000\n",
       "2        1530000\n",
       "3        1650000\n",
       "4        1435000\n",
       "          ...   \n",
       "56178    3400000\n",
       "56179    2450000\n",
       "56181    3250000\n",
       "56183    3000000\n",
       "56185    2250000\n",
       "Name: Price, Length: 45433, dtype: object"
      ]
     },
     "execution_count": 23,
     "metadata": {},
     "output_type": "execute_result"
    }
   ],
   "source": [
    "target = data[\"Price\"]\n",
    "data.drop(columns = [\"Price\"],inplace=True)\n",
    "target"
   ]
  },
  {
   "cell_type": "markdown",
   "metadata": {},
   "source": [
    "# DATA VISUALIZATION"
   ]
  },
  {
   "cell_type": "code",
   "execution_count": 24,
   "metadata": {},
   "outputs": [
    {
     "data": {
      "image/png": "[encoded data removed]",
      "text/plain": [
       "<Figure size 432x288 with 1 Axes>"
      ]
     },
     "metadata": {
      "needs_background": "light"
     },
     "output_type": "display_data"
    }
   ],
   "source": [
    "y = []\n",
    "for i in target:\n",
    "    y.append(int(i))\n",
    "target = y\n",
    "\n",
    "x = data[\"Power\"]\n",
    "plt.yticks(np.arange(min(y), max(y)+1, 10000000))\n",
    "plt.scatter(x, y)\n",
    "plt.xlabel(\"Power\")\n",
    "plt.ylabel('Price')\n",
    "plt.show()\n",
    "\n",
    "#NON-LINEAR RELATIONSHIP B/W PRICE and POWER"
   ]
  },
  {
   "cell_type": "code",
   "execution_count": 25,
   "metadata": {},
   "outputs": [
    {
     "data": {
      "image/png": "[encoded data removed]",
      "text/plain": [
       "<Figure size 432x288 with 1 Axes>"
      ]
     },
     "metadata": {
      "needs_background": "light"
     },
     "output_type": "display_data"
    }
   ],
   "source": [
    "x = data[\"Mileage\"]\n",
    "plt.yticks(np.arange(min(y), max(y)+1, 10000000))\n",
    "plt.scatter(x, y)\n",
    "plt.xlabel(\"Mileage\")\n",
    "plt.ylabel('Price')\n",
    "plt.show()\n",
    "\n",
    "#NON-LINEAR RELATIONSHIP B/W PRICE and MILEAGE "
   ]
  },
  {
   "cell_type": "code",
   "execution_count": 26,
   "metadata": {},
   "outputs": [
    {
     "data": {
      "image/png": "[encoded data removed]",
      "text/plain": [
       "<Figure size 432x288 with 1 Axes>"
      ]
     },
     "metadata": {
      "needs_background": "light"
     },
     "output_type": "display_data"
    }
   ],
   "source": [
    "x = data[\"Year\"]\n",
    "plt.yticks(np.arange(min(y), max(y)+1, 10000000))\n",
    "plt.scatter(x, y)\n",
    "plt.xlabel(\"Year\")\n",
    "plt.ylabel('Price')\n",
    "plt.show()\n",
    "\n",
    "#NON-LINEAR RELATIONSHIP B/W PRICE and YEAR "
   ]
  },
  {
   "cell_type": "markdown",
   "metadata": {},
   "source": [
    "### NON-LINEAR RELATIONSHIP BETWEEN:\n",
    "PRICE & YEAR\n",
    "\n",
    "PRICE & MILEAGE\n",
    "\n",
    "PRICE & POWER\n",
    "\n",
    "THEREFORE CONVERT PRICE INTO ITS NATURAL LOGARITHM FORM FOR LINEAR RELATIONSHIP"
   ]
  },
  {
   "cell_type": "code",
   "execution_count": 27,
   "metadata": {},
   "outputs": [],
   "source": [
    "#CONVERTING PRICE INTO ITS NATURAL LOG (ln(e))\n",
    "linear_target = []\n",
    "for x in target:\n",
    "    x = int (x)\n",
    "    linear_target.append(np.log(x))\n",
    "\n",
    "#Replacing PRICE with temp\n",
    "#target = temp\n",
    "#target\n",
    "#print(data.Price)"
   ]
  },
  {
   "cell_type": "markdown",
   "metadata": {},
   "source": [
    "# LABEL ENCODING TO COVERT CATEGORICAL DATA"
   ]
  },
  {
   "cell_type": "code",
   "execution_count": 28,
   "metadata": {},
   "outputs": [
    {
     "data": {
      "text/html": [
       "<div>\n",
       "<style scoped>\n",
       "    .dataframe tbody tr th:only-of-type {\n",
       "        vertical-align: middle;\n",
       "    }\n",
       "\n",
       "    .dataframe tbody tr th {\n",
       "        vertical-align: top;\n",
       "    }\n",
       "\n",
       "    .dataframe thead th {\n",
       "        text-align: right;\n",
       "    }\n",
       "</style>\n",
       "<table border=\"1\" class=\"dataframe\">\n",
       "  <thead>\n",
       "    <tr style=\"text-align: right;\">\n",
       "      <th></th>\n",
       "      <th>Make</th>\n",
       "      <th>Body</th>\n",
       "      <th>Year</th>\n",
       "      <th>Mileage</th>\n",
       "      <th>Power</th>\n",
       "      <th>Fuel</th>\n",
       "      <th>Transmission</th>\n",
       "      <th>Assembly</th>\n",
       "    </tr>\n",
       "  </thead>\n",
       "  <tbody>\n",
       "    <tr>\n",
       "      <th>0</th>\n",
       "      <td>16</td>\n",
       "      <td>1</td>\n",
       "      <td>2017</td>\n",
       "      <td>9869</td>\n",
       "      <td>1000</td>\n",
       "      <td>2</td>\n",
       "      <td>0</td>\n",
       "      <td>0</td>\n",
       "    </tr>\n",
       "    <tr>\n",
       "      <th>1</th>\n",
       "      <td>16</td>\n",
       "      <td>4</td>\n",
       "      <td>2019</td>\n",
       "      <td>11111</td>\n",
       "      <td>1300</td>\n",
       "      <td>2</td>\n",
       "      <td>0</td>\n",
       "      <td>1</td>\n",
       "    </tr>\n",
       "    <tr>\n",
       "      <th>2</th>\n",
       "      <td>15</td>\n",
       "      <td>1</td>\n",
       "      <td>2019</td>\n",
       "      <td>17500</td>\n",
       "      <td>660</td>\n",
       "      <td>2</td>\n",
       "      <td>0</td>\n",
       "      <td>1</td>\n",
       "    </tr>\n",
       "    <tr>\n",
       "      <th>3</th>\n",
       "      <td>15</td>\n",
       "      <td>1</td>\n",
       "      <td>2019</td>\n",
       "      <td>9600</td>\n",
       "      <td>660</td>\n",
       "      <td>2</td>\n",
       "      <td>1</td>\n",
       "      <td>1</td>\n",
       "    </tr>\n",
       "    <tr>\n",
       "      <th>4</th>\n",
       "      <td>16</td>\n",
       "      <td>4</td>\n",
       "      <td>2010</td>\n",
       "      <td>120000</td>\n",
       "      <td>1300</td>\n",
       "      <td>2</td>\n",
       "      <td>1</td>\n",
       "      <td>1</td>\n",
       "    </tr>\n",
       "  </tbody>\n",
       "</table>\n",
       "</div>"
      ],
      "text/plain": [
       "   Make  Body  Year  Mileage  Power  Fuel  Transmission  Assembly\n",
       "0    16     1  2017     9869   1000     2             0         0\n",
       "1    16     4  2019    11111   1300     2             0         1\n",
       "2    15     1  2019    17500    660     2             0         1\n",
       "3    15     1  2019     9600    660     2             1         1\n",
       "4    16     4  2010   120000   1300     2             1         1"
      ]
     },
     "execution_count": 28,
     "metadata": {},
     "output_type": "execute_result"
    }
   ],
   "source": [
    "#Apply Labels on Make, Model, Engine Type, Transmission, Color & Assembly\n",
    "\n",
    "le_make = preprocessing.LabelEncoder()\n",
    "le_fuel = preprocessing.LabelEncoder()\n",
    "le_transmission = preprocessing.LabelEncoder()\n",
    "le_assembly = preprocessing.LabelEncoder()\n",
    "le_body = preprocessing.LabelEncoder()\n",
    "\n",
    "#Fitting and Transforming Data\n",
    "\n",
    "make = le_make.fit_transform(data['Make'])\n",
    "fuel = le_fuel.fit_transform(data['Fuel'])\n",
    "transmission = le_transmission.fit_transform(data['Transmission'])\n",
    "assembly = le_assembly.fit_transform(data['Assembly'])\n",
    "body = le_body.fit_transform(data['Body'])\n",
    "\n",
    "#Setting Up Data with Labels\n",
    "new_data = {\"Make\": make, \"Body\":body, \"Year\": data.Year, \"Mileage\": data.Mileage,\n",
    "            \"Power\": data.Power, \"Fuel\":fuel, \"Transmission\":transmission,\n",
    "            \"Assembly\": assembly}\n",
    "\n",
    "data = pd.DataFrame(data=new_data)\n",
    "\n",
    "#How Dataset looks now...\n",
    "data.head()"
   ]
  },
  {
   "cell_type": "markdown",
   "metadata": {},
   "source": [
    "# SCALING DATA TO AVOID BIASNESS"
   ]
  },
  {
   "cell_type": "code",
   "execution_count": 29,
   "metadata": {},
   "outputs": [],
   "source": [
    "scaler = MinMaxScaler()\n",
    "scaled = scaler.fit_transform(data)\n",
    "df = pd.DataFrame(data = scaled)"
   ]
  },
  {
   "cell_type": "code",
   "execution_count": 30,
   "metadata": {},
   "outputs": [
    {
     "data": {
      "text/html": [
       "<div>\n",
       "<style scoped>\n",
       "    .dataframe tbody tr th:only-of-type {\n",
       "        vertical-align: middle;\n",
       "    }\n",
       "\n",
       "    .dataframe tbody tr th {\n",
       "        vertical-align: top;\n",
       "    }\n",
       "\n",
       "    .dataframe thead th {\n",
       "        text-align: right;\n",
       "    }\n",
       "</style>\n",
       "<table border=\"1\" class=\"dataframe\">\n",
       "  <thead>\n",
       "    <tr style=\"text-align: right;\">\n",
       "      <th></th>\n",
       "      <th>Make</th>\n",
       "      <th>Body</th>\n",
       "      <th>Year</th>\n",
       "      <th>Mileage</th>\n",
       "      <th>Power</th>\n",
       "      <th>Fuel</th>\n",
       "      <th>Transmission</th>\n",
       "      <th>Assembly</th>\n",
       "    </tr>\n",
       "  </thead>\n",
       "  <tbody>\n",
       "    <tr>\n",
       "      <th>0</th>\n",
       "      <td>0.941176</td>\n",
       "      <td>0.2</td>\n",
       "      <td>0.931034</td>\n",
       "      <td>0.009868</td>\n",
       "      <td>0.149453</td>\n",
       "      <td>1.0</td>\n",
       "      <td>0.0</td>\n",
       "      <td>0.0</td>\n",
       "    </tr>\n",
       "    <tr>\n",
       "      <th>1</th>\n",
       "      <td>0.941176</td>\n",
       "      <td>0.8</td>\n",
       "      <td>1.000000</td>\n",
       "      <td>0.011110</td>\n",
       "      <td>0.195018</td>\n",
       "      <td>1.0</td>\n",
       "      <td>0.0</td>\n",
       "      <td>1.0</td>\n",
       "    </tr>\n",
       "    <tr>\n",
       "      <th>2</th>\n",
       "      <td>0.882353</td>\n",
       "      <td>0.2</td>\n",
       "      <td>1.000000</td>\n",
       "      <td>0.017499</td>\n",
       "      <td>0.097813</td>\n",
       "      <td>1.0</td>\n",
       "      <td>0.0</td>\n",
       "      <td>1.0</td>\n",
       "    </tr>\n",
       "    <tr>\n",
       "      <th>3</th>\n",
       "      <td>0.882353</td>\n",
       "      <td>0.2</td>\n",
       "      <td>1.000000</td>\n",
       "      <td>0.009599</td>\n",
       "      <td>0.097813</td>\n",
       "      <td>1.0</td>\n",
       "      <td>1.0</td>\n",
       "      <td>1.0</td>\n",
       "    </tr>\n",
       "    <tr>\n",
       "      <th>4</th>\n",
       "      <td>0.941176</td>\n",
       "      <td>0.8</td>\n",
       "      <td>0.689655</td>\n",
       "      <td>0.119999</td>\n",
       "      <td>0.195018</td>\n",
       "      <td>1.0</td>\n",
       "      <td>1.0</td>\n",
       "      <td>1.0</td>\n",
       "    </tr>\n",
       "  </tbody>\n",
       "</table>\n",
       "</div>"
      ],
      "text/plain": [
       "       Make  Body      Year   Mileage     Power  Fuel  Transmission  Assembly\n",
       "0  0.941176   0.2  0.931034  0.009868  0.149453   1.0           0.0       0.0\n",
       "1  0.941176   0.8  1.000000  0.011110  0.195018   1.0           0.0       1.0\n",
       "2  0.882353   0.2  1.000000  0.017499  0.097813   1.0           0.0       1.0\n",
       "3  0.882353   0.2  1.000000  0.009599  0.097813   1.0           1.0       1.0\n",
       "4  0.941176   0.8  0.689655  0.119999  0.195018   1.0           1.0       1.0"
      ]
     },
     "execution_count": 30,
     "metadata": {},
     "output_type": "execute_result"
    }
   ],
   "source": [
    "column_names = []\n",
    "for i in data.columns:\n",
    "    column_names.append(str(i))\n",
    "\n",
    "df.columns = column_names\n",
    "df.head()"
   ]
  },
  {
   "cell_type": "markdown",
   "metadata": {},
   "source": [
    "### Non-Linear To Linear Relationship Now"
   ]
  },
  {
   "cell_type": "code",
   "execution_count": 31,
   "metadata": {},
   "outputs": [
    {
     "data": {
      "image/png": "[encoded data removed]",
      "text/plain": [
       "<Figure size 432x288 with 1 Axes>"
      ]
     },
     "metadata": {
      "needs_background": "light"
     },
     "output_type": "display_data"
    }
   ],
   "source": [
    "y = linear_target\n",
    "x = df[\"Year\"]\n",
    "plt.yticks(np.arange(min(y), max(y)+1, 2))\n",
    "plt.scatter(x, y)\n",
    "plt.xlabel(\"Year\")\n",
    "plt.ylabel('Price')\n",
    "plt.show()\n",
    "\n",
    "#LINEAR RELATIONSHIP B/W PRICE and YEAR "
   ]
  },
  {
   "cell_type": "code",
   "execution_count": 32,
   "metadata": {},
   "outputs": [
    {
     "data": {
      "text/html": [
       "<div>\n",
       "<style scoped>\n",
       "    .dataframe tbody tr th:only-of-type {\n",
       "        vertical-align: middle;\n",
       "    }\n",
       "\n",
       "    .dataframe tbody tr th {\n",
       "        vertical-align: top;\n",
       "    }\n",
       "\n",
       "    .dataframe thead th {\n",
       "        text-align: right;\n",
       "    }\n",
       "</style>\n",
       "<table border=\"1\" class=\"dataframe\">\n",
       "  <thead>\n",
       "    <tr style=\"text-align: right;\">\n",
       "      <th></th>\n",
       "      <th>Make</th>\n",
       "      <th>Body</th>\n",
       "      <th>Year</th>\n",
       "      <th>Mileage</th>\n",
       "      <th>Power</th>\n",
       "      <th>Fuel</th>\n",
       "      <th>Transmission</th>\n",
       "      <th>Assembly</th>\n",
       "    </tr>\n",
       "  </thead>\n",
       "  <tbody>\n",
       "    <tr>\n",
       "      <th>count</th>\n",
       "      <td>45433.000000</td>\n",
       "      <td>45433.000000</td>\n",
       "      <td>45433.000000</td>\n",
       "      <td>45433.000000</td>\n",
       "      <td>45433.000000</td>\n",
       "      <td>45433.000000</td>\n",
       "      <td>45433.000000</td>\n",
       "      <td>45433.000000</td>\n",
       "    </tr>\n",
       "    <tr>\n",
       "      <th>mean</th>\n",
       "      <td>0.742707</td>\n",
       "      <td>0.517404</td>\n",
       "      <td>0.734514</td>\n",
       "      <td>0.089931</td>\n",
       "      <td>0.198798</td>\n",
       "      <td>0.954449</td>\n",
       "      <td>0.512403</td>\n",
       "      <td>0.662756</td>\n",
       "    </tr>\n",
       "    <tr>\n",
       "      <th>std</th>\n",
       "      <td>0.264536</td>\n",
       "      <td>0.307708</td>\n",
       "      <td>0.215321</td>\n",
       "      <td>0.063230</td>\n",
       "      <td>0.095124</td>\n",
       "      <td>0.188102</td>\n",
       "      <td>0.499852</td>\n",
       "      <td>0.472774</td>\n",
       "    </tr>\n",
       "    <tr>\n",
       "      <th>min</th>\n",
       "      <td>0.000000</td>\n",
       "      <td>0.000000</td>\n",
       "      <td>0.000000</td>\n",
       "      <td>0.000000</td>\n",
       "      <td>0.000000</td>\n",
       "      <td>0.000000</td>\n",
       "      <td>0.000000</td>\n",
       "      <td>0.000000</td>\n",
       "    </tr>\n",
       "    <tr>\n",
       "      <th>25%</th>\n",
       "      <td>0.352941</td>\n",
       "      <td>0.200000</td>\n",
       "      <td>0.586207</td>\n",
       "      <td>0.047999</td>\n",
       "      <td>0.149453</td>\n",
       "      <td>1.000000</td>\n",
       "      <td>0.000000</td>\n",
       "      <td>0.000000</td>\n",
       "    </tr>\n",
       "    <tr>\n",
       "      <th>50%</th>\n",
       "      <td>0.882353</td>\n",
       "      <td>0.600000</td>\n",
       "      <td>0.793103</td>\n",
       "      <td>0.079999</td>\n",
       "      <td>0.195018</td>\n",
       "      <td>1.000000</td>\n",
       "      <td>1.000000</td>\n",
       "      <td>1.000000</td>\n",
       "    </tr>\n",
       "    <tr>\n",
       "      <th>75%</th>\n",
       "      <td>0.941176</td>\n",
       "      <td>0.800000</td>\n",
       "      <td>0.896552</td>\n",
       "      <td>0.119999</td>\n",
       "      <td>0.225395</td>\n",
       "      <td>1.000000</td>\n",
       "      <td>1.000000</td>\n",
       "      <td>1.000000</td>\n",
       "    </tr>\n",
       "    <tr>\n",
       "      <th>max</th>\n",
       "      <td>1.000000</td>\n",
       "      <td>1.000000</td>\n",
       "      <td>1.000000</td>\n",
       "      <td>1.000000</td>\n",
       "      <td>1.000000</td>\n",
       "      <td>1.000000</td>\n",
       "      <td>1.000000</td>\n",
       "      <td>1.000000</td>\n",
       "    </tr>\n",
       "  </tbody>\n",
       "</table>\n",
       "</div>"
      ],
      "text/plain": [
       "               Make          Body          Year       Mileage         Power  \\\n",
       "count  45433.000000  45433.000000  45433.000000  45433.000000  45433.000000   \n",
       "mean       0.742707      0.517404      0.734514      0.089931      0.198798   \n",
       "std        0.264536      0.307708      0.215321      0.063230      0.095124   \n",
       "min        0.000000      0.000000      0.000000      0.000000      0.000000   \n",
       "25%        0.352941      0.200000      0.586207      0.047999      0.149453   \n",
       "50%        0.882353      0.600000      0.793103      0.079999      0.195018   \n",
       "75%        0.941176      0.800000      0.896552      0.119999      0.225395   \n",
       "max        1.000000      1.000000      1.000000      1.000000      1.000000   \n",
       "\n",
       "               Fuel  Transmission      Assembly  \n",
       "count  45433.000000  45433.000000  45433.000000  \n",
       "mean       0.954449      0.512403      0.662756  \n",
       "std        0.188102      0.499852      0.472774  \n",
       "min        0.000000      0.000000      0.000000  \n",
       "25%        1.000000      0.000000      0.000000  \n",
       "50%        1.000000      1.000000      1.000000  \n",
       "75%        1.000000      1.000000      1.000000  \n",
       "max        1.000000      1.000000      1.000000  "
      ]
     },
     "execution_count": 32,
     "metadata": {},
     "output_type": "execute_result"
    }
   ],
   "source": [
    "df.describe()"
   ]
  },
  {
   "cell_type": "markdown",
   "metadata": {},
   "source": [
    "# TRAIN & TEST DATA SPLIT"
   ]
  },
  {
   "cell_type": "code",
   "execution_count": 33,
   "metadata": {},
   "outputs": [
    {
     "name": "stdout",
     "output_type": "stream",
     "text": [
      "Size of Training Data: 36346\n",
      "Size of Testing Data: 9087\n"
     ]
    }
   ],
   "source": [
    "#Spliting Test_Data And Train Data\n",
    "X_train, X_test, Y_train, Y_test = train_test_split(df,linear_target,test_size=0.2, random_state = 42)\n",
    "\n",
    "#LENGTH OF TRAINING AND TEST DATA\n",
    "print('Size of Training Data:',len(Y_train))\n",
    "print('Size of Testing Data:',len(Y_test))"
   ]
  },
  {
   "cell_type": "markdown",
   "metadata": {},
   "source": [
    "# STEPWISE REGRESSION"
   ]
  },
  {
   "cell_type": "code",
   "execution_count": 34,
   "metadata": {},
   "outputs": [
    {
     "data": {
      "text/html": [
       "<table class=\"simpletable\">\n",
       "<caption>OLS Regression Results</caption>\n",
       "<tr>\n",
       "  <th>Dep. Variable:</th>            <td>y</td>        <th>  R-squared:         </th> <td>   0.870</td> \n",
       "</tr>\n",
       "<tr>\n",
       "  <th>Model:</th>                   <td>OLS</td>       <th>  Adj. R-squared:    </th> <td>   0.870</td> \n",
       "</tr>\n",
       "<tr>\n",
       "  <th>Method:</th>             <td>Least Squares</td>  <th>  F-statistic:       </th> <td>3.046e+04</td>\n",
       "</tr>\n",
       "<tr>\n",
       "  <th>Date:</th>             <td>Mon, 17 May 2021</td> <th>  Prob (F-statistic):</th>  <td>  0.00</td>  \n",
       "</tr>\n",
       "<tr>\n",
       "  <th>Time:</th>                 <td>09:30:13</td>     <th>  Log-Likelihood:    </th> <td> -3151.3</td> \n",
       "</tr>\n",
       "<tr>\n",
       "  <th>No. Observations:</th>      <td> 36346</td>      <th>  AIC:               </th> <td>   6321.</td> \n",
       "</tr>\n",
       "<tr>\n",
       "  <th>Df Residuals:</th>          <td> 36337</td>      <th>  BIC:               </th> <td>   6397.</td> \n",
       "</tr>\n",
       "<tr>\n",
       "  <th>Df Model:</th>              <td>     8</td>      <th>                     </th>     <td> </td>    \n",
       "</tr>\n",
       "<tr>\n",
       "  <th>Covariance Type:</th>      <td>nonrobust</td>    <th>                     </th>     <td> </td>    \n",
       "</tr>\n",
       "</table>\n",
       "<table class=\"simpletable\">\n",
       "<tr>\n",
       "        <td></td>          <th>coef</th>     <th>std err</th>      <th>t</th>      <th>P>|t|</th>  <th>[0.025</th>    <th>0.975]</th>  \n",
       "</tr>\n",
       "<tr>\n",
       "  <th>const</th>        <td>   12.0604</td> <td>    0.013</td> <td>  913.324</td> <td> 0.000</td> <td>   12.034</td> <td>   12.086</td>\n",
       "</tr>\n",
       "<tr>\n",
       "  <th>Make</th>         <td>   -0.0307</td> <td>    0.005</td> <td>   -5.650</td> <td> 0.000</td> <td>   -0.041</td> <td>   -0.020</td>\n",
       "</tr>\n",
       "<tr>\n",
       "  <th>Body</th>         <td>    0.2928</td> <td>    0.005</td> <td>   57.332</td> <td> 0.000</td> <td>    0.283</td> <td>    0.303</td>\n",
       "</tr>\n",
       "<tr>\n",
       "  <th>Year</th>         <td>    1.8645</td> <td>    0.008</td> <td>  222.457</td> <td> 0.000</td> <td>    1.848</td> <td>    1.881</td>\n",
       "</tr>\n",
       "<tr>\n",
       "  <th>Mileage</th>      <td>   -0.3240</td> <td>    0.028</td> <td>  -11.536</td> <td> 0.000</td> <td>   -0.379</td> <td>   -0.269</td>\n",
       "</tr>\n",
       "<tr>\n",
       "  <th>Power</th>        <td>    4.6192</td> <td>    0.018</td> <td>  255.463</td> <td> 0.000</td> <td>    4.584</td> <td>    4.655</td>\n",
       "</tr>\n",
       "<tr>\n",
       "  <th>Fuel</th>         <td>    0.0756</td> <td>    0.008</td> <td>    9.235</td> <td> 0.000</td> <td>    0.060</td> <td>    0.092</td>\n",
       "</tr>\n",
       "<tr>\n",
       "  <th>Transmission</th> <td>   -0.2479</td> <td>    0.004</td> <td>  -61.956</td> <td> 0.000</td> <td>   -0.256</td> <td>   -0.240</td>\n",
       "</tr>\n",
       "<tr>\n",
       "  <th>Assembly</th>     <td>   -0.2806</td> <td>    0.004</td> <td>  -71.261</td> <td> 0.000</td> <td>   -0.288</td> <td>   -0.273</td>\n",
       "</tr>\n",
       "</table>\n",
       "<table class=\"simpletable\">\n",
       "<tr>\n",
       "  <th>Omnibus:</th>       <td>7248.214</td> <th>  Durbin-Watson:     </th>  <td>   2.001</td> \n",
       "</tr>\n",
       "<tr>\n",
       "  <th>Prob(Omnibus):</th>  <td> 0.000</td>  <th>  Jarque-Bera (JB):  </th> <td>153387.891</td>\n",
       "</tr>\n",
       "<tr>\n",
       "  <th>Skew:</th>           <td>-0.405</td>  <th>  Prob(JB):          </th>  <td>    0.00</td> \n",
       "</tr>\n",
       "<tr>\n",
       "  <th>Kurtosis:</th>       <td>13.031</td>  <th>  Cond. No.          </th>  <td>    43.1</td> \n",
       "</tr>\n",
       "</table><br/><br/>Notes:<br/>[1] Standard Errors assume that the covariance matrix of the errors is correctly specified."
      ],
      "text/plain": [
       "<class 'statsmodels.iolib.summary.Summary'>\n",
       "\"\"\"\n",
       "                            OLS Regression Results                            \n",
       "==============================================================================\n",
       "Dep. Variable:                      y   R-squared:                       0.870\n",
       "Model:                            OLS   Adj. R-squared:                  0.870\n",
       "Method:                 Least Squares   F-statistic:                 3.046e+04\n",
       "Date:                Mon, 17 May 2021   Prob (F-statistic):               0.00\n",
       "Time:                        09:30:13   Log-Likelihood:                -3151.3\n",
       "No. Observations:               36346   AIC:                             6321.\n",
       "Df Residuals:                   36337   BIC:                             6397.\n",
       "Df Model:                           8                                         \n",
       "Covariance Type:            nonrobust                                         \n",
       "================================================================================\n",
       "                   coef    std err          t      P>|t|      [0.025      0.975]\n",
       "--------------------------------------------------------------------------------\n",
       "const           12.0604      0.013    913.324      0.000      12.034      12.086\n",
       "Make            -0.0307      0.005     -5.650      0.000      -0.041      -0.020\n",
       "Body             0.2928      0.005     57.332      0.000       0.283       0.303\n",
       "Year             1.8645      0.008    222.457      0.000       1.848       1.881\n",
       "Mileage         -0.3240      0.028    -11.536      0.000      -0.379      -0.269\n",
       "Power            4.6192      0.018    255.463      0.000       4.584       4.655\n",
       "Fuel             0.0756      0.008      9.235      0.000       0.060       0.092\n",
       "Transmission    -0.2479      0.004    -61.956      0.000      -0.256      -0.240\n",
       "Assembly        -0.2806      0.004    -71.261      0.000      -0.288      -0.273\n",
       "==============================================================================\n",
       "Omnibus:                     7248.214   Durbin-Watson:                   2.001\n",
       "Prob(Omnibus):                  0.000   Jarque-Bera (JB):           153387.891\n",
       "Skew:                          -0.405   Prob(JB):                         0.00\n",
       "Kurtosis:                      13.031   Cond. No.                         43.1\n",
       "==============================================================================\n",
       "\n",
       "Notes:\n",
       "[1] Standard Errors assume that the covariance matrix of the errors is correctly specified.\n",
       "\"\"\""
      ]
     },
     "execution_count": 34,
     "metadata": {},
     "output_type": "execute_result"
    }
   ],
   "source": [
    "X = sm.add_constant(X_train)\n",
    "Y_train = list(Y_train)\n",
    "reg = sm.OLS(Y_train,X).fit()\n",
    "reg.summary()"
   ]
  },
  {
   "cell_type": "markdown",
   "metadata": {},
   "source": [
    "### PREDICTIONS USING 8 FEATURES"
   ]
  },
  {
   "cell_type": "markdown",
   "metadata": {},
   "source": [
    "### FUCNTION TO CALCULATE ACCURACY WITH 2% ERROR "
   ]
  },
  {
   "cell_type": "code",
   "execution_count": 35,
   "metadata": {},
   "outputs": [],
   "source": [
    "def calculate_accuracy (originals,predictions):\n",
    "    length = len(originals)\n",
    "    count = 0\n",
    "    for i,j in zip(originals,predictions):\n",
    "        i = float(i)\n",
    "        j = float(j)\n",
    "        \n",
    "        j = abs(j)\n",
    "        \n",
    "        diff = i - j\n",
    "        diff = abs(diff)\n",
    "        \n",
    "        try:\n",
    "            percent = (diff/i)*100\n",
    "        \n",
    "        except:\n",
    "            percent = 0\n",
    "        \n",
    "        if(percent <= 2):\n",
    "                count += 1\n",
    "\n",
    "    result = count / length\n",
    "    return result*100"
   ]
  },
  {
   "cell_type": "markdown",
   "metadata": {},
   "source": [
    "### FUCNTION TO VISUALIZE PREDICTIONS AGAINST ORIGINAL VALUES "
   ]
  },
  {
   "cell_type": "code",
   "execution_count": 36,
   "metadata": {},
   "outputs": [],
   "source": [
    "def visualizeResults(org,res,name):\n",
    "    org = list(map(float, org))\n",
    "    res = list(map(float, res))\n",
    "\n",
    "    x = org\n",
    "    y = res\n",
    "\n",
    "    plt.scatter(x, y,c = 'blue')\n",
    "\n",
    "    m, b = np.polyfit(x, y, 1)\n",
    "\n",
    "    mx = []\n",
    "    for i in x:\n",
    "        mx.append(float(m*i))\n",
    "\n",
    "    plt.plot(x, mx + b,c= 'red')\n",
    "    title = \"LINE OF \" + str.upper(name)\n",
    "    plt.title(title)\n",
    "    plt.xlabel(\"ORIGINAL PRICES\")\n",
    "    plt.ylabel('PREDICTED PRICES')\n",
    "    plt.show()"
   ]
  },
  {
   "cell_type": "markdown",
   "metadata": {},
   "source": [
    "# LINEAR REGRESSION MODEL"
   ]
  },
  {
   "cell_type": "code",
   "execution_count": 41,
   "metadata": {},
   "outputs": [
    {
     "name": "stdout",
     "output_type": "stream",
     "text": [
      "Intercept:\n",
      " 12.060366724076896\n",
      "\n",
      "Coefficient:\n",
      " [-0.030701    0.29284214  1.86451954 -0.32403882  4.61919057  0.07556858\n",
      " -0.24793315 -0.28063379]\n",
      "FOR LINEAR REGRESSION:\n",
      "Accuracy: 78.73885770881479\n",
      "R-Square Score = 0.8674256271012536\n",
      "RMSE = 0.2673768827477958\n"
     ]
    },
    {
     "data": {
      "image/png": "[encoded data removed]",
      "text/plain": [
       "<Figure size 432x288 with 1 Axes>"
      ]
     },
     "metadata": {
      "needs_background": "light"
     },
     "output_type": "display_data"
    }
   ],
   "source": [
    "#MODEL TRAINING\n",
    "lr_model = linear_model.LinearRegression()\n",
    "\n",
    "lr_model.fit(X_train, Y_train)\n",
    "\n",
    "print (\"Intercept:\\n\",lr_model.intercept_)\n",
    "print (\"\\nCoefficient:\\n\",lr_model.coef_)\n",
    "\n",
    "lr_pred = lr_model.predict(X_test)\n",
    "\n",
    "#PRINTING ACCURACIES\n",
    "print(\"FOR LINEAR REGRESSION:\")\n",
    "print(\"Accuracy:\",calculate_accuracy(Y_test, lr_pred))\n",
    "print(\"R-Square Score =\",r2_score(Y_test, lr_pred))\n",
    "print(\"RMSE =\",np.sqrt(mean_squared_error(Y_test, lr_pred)))\n",
    "visualizeResults(Y_test,lr_pred,\"linear regression model\")"
   ]
  },
  {
   "cell_type": "markdown",
   "metadata": {},
   "source": [
    "# DECISION TREE REGRESSOR MODEL"
   ]
  },
  {
   "cell_type": "code",
   "execution_count": 38,
   "metadata": {},
   "outputs": [
    {
     "name": "stdout",
     "output_type": "stream",
     "text": [
      "FOR DECISION TREE:\n",
      "Accuracy: 91.44932320897986\n",
      "R-Square Score = 0.9374221735927171\n",
      "RMSE = 0.1836979467300654\n"
     ]
    },
    {
     "data": {
      "image/png": "[encoded data removed]",
      "text/plain": [
       "<Figure size 432x288 with 1 Axes>"
      ]
     },
     "metadata": {
      "needs_background": "light"
     },
     "output_type": "display_data"
    }
   ],
   "source": [
    "tree_model = DecisionTreeRegressor()\n",
    "\n",
    "tree_model.fit(X_train, Y_train)\n",
    "\n",
    "tree_pred = tree_model.predict(X_test)\n",
    "\n",
    "print(\"FOR DECISION TREE:\")\n",
    "print(\"Accuracy:\",calculate_accuracy(Y_test, tree_pred))\n",
    "print(\"R-Square Score =\",r2_score(Y_test, tree_pred))\n",
    "print(\"RMSE =\",np.sqrt(mean_squared_error(Y_test, tree_pred)))\n",
    "visualizeResults(Y_test,tree_pred,\"Decision Tree model\")"
   ]
  },
  {
   "cell_type": "code",
   "execution_count": null,
   "metadata": {},
   "outputs": [],
   "source": []
  },
  {
   "cell_type": "markdown",
   "metadata": {},
   "source": [
    "# RANDOM FOREST REGRESSOR MODEL"
   ]
  },
  {
   "cell_type": "code",
   "execution_count": 39,
   "metadata": {},
   "outputs": [
    {
     "name": "stdout",
     "output_type": "stream",
     "text": [
      "\n",
      "FOR RANDOM FOREST TREE:\n",
      "Accuracy: 94.23352041377792\n",
      "R-Square Score = 0.9533625369516557\n",
      "RMSE = 0.15858478725737077\n"
     ]
    },
    {
     "data": {
      "image/png": "[encoded data removed]",
      "text/plain": [
       "<Figure size 432x288 with 1 Axes>"
      ]
     },
     "metadata": {
      "needs_background": "light"
     },
     "output_type": "display_data"
    }
   ],
   "source": [
    "rf_model = RandomForestRegressor()\n",
    "\n",
    "rf_model.fit(X_train, Y_train)\n",
    "\n",
    "rf_pred = rf_model.predict(X_test)\n",
    "\n",
    "print(\"\\nFOR RANDOM FOREST TREE:\")\n",
    "print(\"Accuracy:\",calculate_accuracy(Y_test, rf_pred))\n",
    "print(\"R-Square Score =\",r2_score(Y_test, rf_pred))\n",
    "print(\"RMSE =\",np.sqrt(mean_squared_error(Y_test, rf_pred)))\n",
    "visualizeResults(Y_test,rf_pred,\"Random Forest Tree model\")"
   ]
  },
  {
   "cell_type": "markdown",
   "metadata": {},
   "source": [
    "# K NEAREST NEIGHBOURS REGRESSOR MODEL"
   ]
  },
  {
   "cell_type": "code",
   "execution_count": 40,
   "metadata": {},
   "outputs": [
    {
     "name": "stdout",
     "output_type": "stream",
     "text": [
      "Accuracy for, 1 : 90.39286893364147\n",
      "Accuracy for, 2 : 92.34070650379664\n",
      "Accuracy for, 3 : 93.52921756355232\n",
      "Accuracy for, 4 : 93.72730274017827\n",
      "Accuracy for, 5 : 93.73830747221305\n",
      "Accuracy for, 6 : 93.85935952459558\n",
      "Accuracy for, 7 : 93.83735006052602\n",
      "Accuracy for, 8 : 93.83735006052602\n",
      "Accuracy for, 9 : 93.74931220424783\n",
      "Accuracy for, 10 : 93.78232640035216\n",
      "Accuracy for, 11 : 93.63926488390007\n",
      "Accuracy for, 12 : 93.57323649169143\n",
      "Accuracy for, 13 : 93.59524595576097\n",
      "Accuracy for, 14 : 93.44117970727413\n",
      "Accuracy for, 15 : 93.33113238692637\n",
      "Accuracy for, 16 : 93.33113238692637\n",
      "Accuracy for, 17 : 93.22108506657862\n",
      "Accuracy for, 18 : 93.24309453064818\n",
      "Accuracy for, 19 : 93.24309453064818\n"
     ]
    }
   ],
   "source": [
    "for i in range (1,20):\n",
    "    knn_model = KNeighborsRegressor(n_neighbors = i)\n",
    "    knn_model.fit(X_train, Y_train)\n",
    "    knn_pred = knn_model.predict(X_test)\n",
    "    print(\"Accuracy for,\",i,\":\",calculate_accuracy(Y_test, knn_pred))"
   ]
  },
  {
   "cell_type": "code",
   "execution_count": 42,
   "metadata": {},
   "outputs": [
    {
     "name": "stdout",
     "output_type": "stream",
     "text": [
      "\n",
      "FOR KNN REGRESSOR:\n",
      "Accuracy: 93.78232640035216\n",
      "R-Square Score = 0.9488359334397858\n",
      "RMSE = 0.16610266198331708\n"
     ]
    },
    {
     "data": {
      "image/png": "[encoded data removed]",
      "text/plain": [
       "<Figure size 432x288 with 1 Axes>"
      ]
     },
     "metadata": {
      "needs_background": "light"
     },
     "output_type": "display_data"
    }
   ],
   "source": [
    "#MAX VALUE OF ACCURACY AT 10 HENCE:\n",
    "knn_model = KNeighborsRegressor(n_neighbors = 10)\n",
    "knn_model.fit(X_train, Y_train)\n",
    "knn_pred = knn_model.predict(X_test)\n",
    "print(\"\\nFOR KNN REGRESSOR:\")\n",
    "print(\"Accuracy:\",calculate_accuracy(Y_test, knn_pred))\n",
    "print(\"R-Square Score =\",r2_score(Y_test, knn_pred))\n",
    "print(\"RMSE =\",np.sqrt(mean_squared_error(Y_test, knn_pred)))\n",
    "visualizeResults(Y_test,knn_pred,\"KNN REGRESSOR model\")"
   ]
  },
  {
   "cell_type": "markdown",
   "metadata": {},
   "source": [
    "# SUPPORT VECTOR MACHINE REGRESSOR MODEL(SVR)"
   ]
  },
  {
   "cell_type": "code",
   "execution_count": 46,
   "metadata": {},
   "outputs": [
    {
     "name": "stdout",
     "output_type": "stream",
     "text": [
      "\n",
      "FOR SUPPORT VECTOR MODEL:\n",
      "Accuracy: 90.49191152195444\n",
      "R-Square Score = 0.9303295053560503\n",
      "RMSE = 0.19382889143695528\n"
     ]
    },
    {
     "data": {
      "image/png": "[encoded data removed]",
      "text/plain": [
       "<Figure size 432x288 with 1 Axes>"
      ]
     },
     "metadata": {
      "needs_background": "light"
     },
     "output_type": "display_data"
    }
   ],
   "source": [
    "sv_model = svm.SVR()\n",
    "sv_model.fit(X_train,Y_train)\n",
    "sv_pred = sv_model.predict(X_test)\n",
    "\n",
    "print(\"\\nFOR SUPPORT VECTOR MODEL:\")\n",
    "print(\"Accuracy:\",calculate_accuracy(Y_test, sv_pred))\n",
    "print(\"R-Square Score =\",r2_score(Y_test, sv_pred))\n",
    "print(\"RMSE =\",np.sqrt(mean_squared_error(Y_test, sv_pred)))\n",
    "visualizeResults(Y_test,sv_pred,\"SUPPORT VECTOR MODEL\")"
   ]
  },
  {
   "cell_type": "markdown",
   "metadata": {},
   "source": [
    "# NEURAL NETWORKING REGRESSOR MODEL (MLP)"
   ]
  },
  {
   "cell_type": "code",
   "execution_count": 141,
   "metadata": {},
   "outputs": [
    {
     "name": "stdout",
     "output_type": "stream",
     "text": [
      "\n",
      "FOR NEURAL NETWORKING MODEL:\n",
      "Accuracy: 90.3378452734676\n",
      "R-Square Score = 0.9327375676762276\n",
      "RMSE = 0.19044972460193657\n"
     ]
    },
    {
     "data": {
      "image/png": "[encoded data removed]",
      "text/plain": [
       "<Figure size 432x288 with 1 Axes>"
      ]
     },
     "metadata": {
      "needs_background": "light"
     },
     "output_type": "display_data"
    }
   ],
   "source": [
    "nn_model = MLPRegressor()\n",
    "nn_model.fit(X_train, Y_train)\n",
    "nn_pred = nn_model.predict(X_test)\n",
    "\n",
    "print(\"\\nFOR NEURAL NETWORKING MODEL:\")\n",
    "print(\"Accuracy:\",calculate_accuracy(Y_test, nn_pred))\n",
    "print(\"R-Square Score =\",r2_score(Y_test, nn_pred))\n",
    "print(\"RMSE =\",np.sqrt(mean_squared_error(Y_test, nn_pred)))\n",
    "visualizeResults(Y_test,nn_pred,\"Neural Networking model\")"
   ]
  },
  {
   "cell_type": "markdown",
   "metadata": {},
   "source": [
    "# THE END"
   ]
  }
 ],
 "metadata": {
  "kernelspec": {
   "display_name": "Python 3",
   "language": "python",
   "name": "python3"
  },
  "language_info": {
   "codemirror_mode": {
    "name": "ipython",
    "version": 3
   },
   "file_extension": ".py",
   "mimetype": "text/x-python",
   "name": "python",
   "nbconvert_exporter": "python",
   "pygments_lexer": "ipython3",
   "version": "3.8.8"
  }
 },
 "nbformat": 4,
 "nbformat_minor": 4
}
